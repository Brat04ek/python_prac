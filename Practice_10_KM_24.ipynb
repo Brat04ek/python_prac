{
  "cells": [
    {
      "cell_type": "markdown",
      "metadata": {
        "id": "FMqboNwO4rVs"
      },
      "source": [
        "# **Курс \"Програмування на мові Python\"**"
      ]
    },
    {
      "cell_type": "markdown",
      "metadata": {
        "id": "A2T6MigL5Z06"
      },
      "source": [
        "## **Практичне зайняття №10**\n",
        "\n",
        "### Тема: \"Лямбда-функції. Функції вищих порядків\""
      ]
    },
    {
      "cell_type": "markdown",
      "metadata": {
        "id": "cfCdgK2zXm7e"
      },
      "source": [
        "### **Завдання 1 (1 бал)**\n",
        "\n",
        "Продавець роздрібного товару влаштовує розпродаж. Для всіх товарів знижка однакова - 60%. Щоб вивісити нові цінники, продавець хоче скласти таблицю, в якій для кожного товару буде підрахована його нова вартість та сума знижки.\n",
        "\n",
        "Написати програму, яка буде генерувати таку таблицю. Вартість одиниць товарів до розпродажу подано у списку products_list. \n",
        "\n",
        "1. Для підрахунку невідомих значень повинні використовуватись вбудовані функції вищих порядків.\n",
        "\n",
        "2. Вартість з урахуванням знижки та суми знижок для кожного товару повинні зберігатись у двох окремих списках. Порядок товарів у нових списках повинен бути такий самий, як і в списку products_list.\n",
        "\n",
        "3. Кожне підраховане числове значення має бути округлене до сотих.\n",
        "\n",
        "4. Дані повинні виводитись у вигляді:\n",
        "\n",
        "**Discount table:**\n",
        "\n",
        "**15.89 6.36 9.53**\n",
        "\n",
        "**39.99 16.0 23.99**\n",
        "\n",
        "**...**\n",
        "\n",
        "\n",
        "products_list = [15.89, 39.99, 82.10, 135.85, 318.90, 510.00, 799.98]"
      ]
    },
    {
      "cell_type": "code",
      "execution_count": 17,
      "metadata": {
        "id": "ifNX2M7LXm7f"
      },
      "outputs": [
        {
          "name": "stdout",
          "output_type": "stream",
          "text": [
            "15.89 6.36 9.53\n",
            "39.99 16.0 23.99\n",
            "82.1 32.84 49.26\n",
            "135.85 54.34 81.51\n",
            "318.9 127.56 191.34\n",
            "510.0 204.0 306.0\n",
            "799.98 319.99 479.99\n"
          ]
        }
      ],
      "source": [
        "products_list = [15.89, 39.99, 82.10, 135.85, 318.90, 510.00, 799.98]\n",
        "\n",
        "def main_func(func):\n",
        "    return lambda y: func(y)\n",
        "def new_price(x):\n",
        "    return round(x*0.4, 2)\n",
        "def discount(x):\n",
        "    return round(x-new_price(x), 2)\n",
        "\n",
        "new_price_list = list(map(main_func(new_price), products_list))\n",
        "discount_list = list(map(main_func(discount), products_list))\n",
        "\n",
        "for i in range(len(products_list)):\n",
        "    print(products_list[i], new_price_list[i], discount_list[i])"
      ]
    },
    {
      "cell_type": "markdown",
      "metadata": {},
      "source": [
        "### **Завдання 2 (2 бали)**\n",
        "\n",
        "Зазвичай рік має 365 днів. Однак у високосні роки додається ще один день - 29 лютого. Правила визначення високосного року такі:\n",
        "\n",
        "- Будь-який рік, що ділиться на 400 - високосний.\n",
        "\n",
        "- З тих років, що залишились, будь-який рік, що ділиться на 100 - **не** високосний.\n",
        "\n",
        "- З тих років, що залишились, будь-який рік, що ділиться на 4 - високосний.\n",
        "\n",
        "- Усі інші роки, що залишились - **не** високосні.\n",
        "\n",
        "1) Створіть функцію, в якій за допомогою вбудованих функцій вищих порядків будуть визначатися високосні роки серед перелічених років у списку years. Створена функція має повертати список високосних років.\n",
        "\n",
        "2) Створіть функцію вищих порядків, яка прийматиме на вхід попередню функцію та визначатиме кількість днів у місяці. Також функція повинна приймати на вхід ще 2 параметри: ціле число від 1 до 12 (місяць) та рік, як ціле чотирицифрове число. Ці значення корисувач має вводити з клавіатури. Перевірку введених даних слід виконувати поза межами функцій."
      ]
    },
    {
      "cell_type": "code",
      "execution_count": 54,
      "metadata": {},
      "outputs": [
        {
          "name": "stdout",
          "output_type": "stream",
          "text": [
            "[1904, 1908, 1912, 1916, 1920, 1924, 1928, 1932, 1936, 1940, 1944, 1948, 1952, 1956, 1960, 1964, 1968, 1972, 1976, 1980, 1984, 1988, 1992, 1996, 2000, 2004, 2008, 2012, 2016, 2020]\n",
            "days in this month:  31\n"
          ]
        }
      ],
      "source": [
        "import numpy as np\n",
        "\n",
        "years = list(np.arange(1900, 2020+1, 1))\n",
        "def year_leap(years):\n",
        "\n",
        "    years_high = []\n",
        "    years_high = list(filter(lambda i: i%400 == 0, years))\n",
        "    years = list(set(years) ^ set(years_high))\n",
        "    years = list(filter(lambda i: i % 100 != 0, years))\n",
        "    years_high = years_high + list(filter(lambda i: i % 4 == 0, years))\n",
        "    years_high.sort()\n",
        "    return years_high\n",
        "\n",
        "def func3(month, year):\n",
        "    month_30day = set([4, 6, 9, 11])\n",
        "    if year in set(year_leap(years)):\n",
        "        if month == 2:\n",
        "            return 29\n",
        "    if month == 2:\n",
        "        return 28\n",
        "    elif month in month_30day:\n",
        "        return 30\n",
        "    else:\n",
        "        return 31\n",
        "\n",
        "\n",
        "def day_count(func, month, year, years):\n",
        "    years = set(year_leap(years))\n",
        "    if year not in years == True:\n",
        "        print('Sorry your year not in list') \n",
        "    else:\n",
        "        return func3(month, year)\n",
        "    \n",
        "print(year_leap(years))\n",
        "End = False\n",
        "\n",
        "try:\n",
        "    while not End:\n",
        "        month = int(input('Enter mount(1-12): '))\n",
        "        if month>12 or month<1:\n",
        "            raise ValueError('Enter month between 1 and 12, please')\n",
        "        year_day = int(input('Enter year: '))\n",
        "        if year_day<1000 or year_day>9999:\n",
        "            raise ValueError('Enter four digit year, please')\n",
        "        End = True\n",
        "except ValueError as v:\n",
        "    print('Error', v)\n",
        "else:\n",
        "    print('days in this month: ',day_count(year_leap, month, year_day, years))\n",
        "\n"
      ]
    }
  ],
  "metadata": {
    "colab": {
      "collapsed_sections": [],
      "name": "Practice_7_KM-01_.ipynb",
      "provenance": []
    },
    "kernelspec": {
      "display_name": "Python 3.10.7 64-bit",
      "language": "python",
      "name": "python3"
    },
    "language_info": {
      "codemirror_mode": {
        "name": "ipython",
        "version": 3
      },
      "file_extension": ".py",
      "mimetype": "text/x-python",
      "name": "python",
      "nbconvert_exporter": "python",
      "pygments_lexer": "ipython3",
      "version": "3.10.7"
    },
    "vscode": {
      "interpreter": {
        "hash": "8b6bf7134631e6eb6a82ee2eed85675a83fe3d68a2155c2a377db56b943ddd16"
      }
    }
  },
  "nbformat": 4,
  "nbformat_minor": 0
}
