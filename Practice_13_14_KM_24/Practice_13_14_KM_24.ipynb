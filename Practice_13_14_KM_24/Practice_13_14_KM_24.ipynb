{
  "cells": [
    {
      "cell_type": "markdown",
      "metadata": {
        "id": "FMqboNwO4rVs"
      },
      "source": [
        "# **Курс \"Програмування на мові Python\"**"
      ]
    },
    {
      "cell_type": "markdown",
      "metadata": {
        "id": "A2T6MigL5Z06"
      },
      "source": [
        "## **Практичні зайняття №13-14**\n",
        "\n",
        "### Тема: \"Робота з файлами. Робота зі спеціальними форматами файлів\""
      ]
    },
    {
      "cell_type": "markdown",
      "metadata": {
        "id": "cfCdgK2zXm7e"
      },
      "source": [
        "### **Завдання 1 (1,5 бали)**\n",
        "\n",
        "У 1939 році друком вийшов роман американського письменика Ернеста Вінсента Райта \"Ґетсбі\". Особливу увагу публіки він здобув через те, що письменник жодного разу не використав у романі літеру \"e\" (роман складається з більше ніж 50,000 слів), яка є найбільш вживаною літерою в англійській мові.\n",
        "\n",
        "Порахуйте кількість входжень кожної літери у текст роману. Виведіть список літер англійського алфавіту, а також інформацію про те, скільки відсотків від усіх літер тексту складає кожна літера алфавіту.\n",
        "\n",
        "Зауваження:\n",
        "\n",
        "1. Програма має ігнорувати будь-які символи, окрім літер.\n",
        "\n",
        "2. Переведіть усі літери у верхній або у нижній регістр.\n",
        "\n",
        "3. Під час виведення відсортуйте літери у порядку зменшення їхнього відсотка. Літера \"e\" має стояти на останньому місці у цьому списку (хоча кілька літер e там все ж таки зустрічається).\n",
        "\n",
        "4. Виведіть перші 5 та останні 5 літер відсортованого списку разом з відсотковими значеннями, що їм відповідають. Відсотки округліть до тисячних."
      ]
    },
    {
      "cell_type": "code",
      "execution_count": 1,
      "metadata": {
        "id": "u4-fHJJ6U462",
        "tags": []
      },
      "outputs": [
        {
          "name": "stdout",
          "output_type": "stream",
          "text": [
            "a [23231, '0.11%']\n",
            "o [22100, '0.104%']\n",
            "i [18720, '0.088%']\n",
            "n [18236, '0.086%']\n",
            "t [18017, '0.085%']\n",
            "j [487, '0.002%']\n",
            "z [228, '0.001%']\n",
            "x [168, '0.001%']\n",
            "q [109, '0.001%']\n",
            "e [4, '0.0%']\n"
          ]
        }
      ],
      "source": [
        "import string\n",
        "alphabet = set(string.ascii_lowercase)\n",
        "statistic = {}\n",
        "suma = 0\n",
        "for i in string.ascii_lowercase:\n",
        "    statistic[i] = 0\n",
        "with open('gadsby.txt', 'r') as f:\n",
        "    for line in f:\n",
        "        for i in list(line):\n",
        "            if i.isalpha():\n",
        "                statistic[i.lower()] += 1\n",
        "                suma += 1\n",
        "    \n",
        "statistic = dict(sorted(statistic.items(), key=lambda item: item[1], reverse=True))\n",
        "for key, value in statistic.items():\n",
        "    statistic[key] = [value, str(round(value/suma, 3)) + '%']\n",
        "i = 0\n",
        "for key, value in statistic.items():\n",
        "    i += 1\n",
        "    if i <= 5 or i > (len(alphabet)-5):\n",
        "        print(key, value) \n"
      ]
    },
    {
      "cell_type": "markdown",
      "metadata": {
        "id": "A34oz70eU463"
      },
      "source": [
        "### **Завдання 2 (1,5 бали)**\n",
        "\n",
        "Архів archive.zip містить 140 txt-файлів, в яких збережено інфорамцію про те, якими іменами називали дітей у США в період з 1880 по 2019 рік.\n",
        "\n",
        "Структура рядка кожного файлу така:\n",
        "\n",
        "*name,sex,number_of_occurrences*\n",
        "\n",
        "Напишіть програму, яка зчитуватиме кожен файл та визначатиме окремо чоловічі, окремо жіночі імена, що були найпопулярнішими хоча б в один з років. Далі програма повинна підраховувати, скільки разів кожне з цих імен ставало найпопулярнишим, та виводити ранжовані списки чоловічіх та жіночих імен у вигляді:\n",
        "\n",
        "```\n",
        "Michael 44\n",
        "John 44\n",
        "Robert 17\n",
        "...\n",
        "\n",
        "Mary 76\n",
        "Jennifer 15\n",
        "Emily 12\n",
        "...\n",
        "```"
      ]
    },
    {
      "cell_type": "code",
      "execution_count": 14,
      "metadata": {},
      "outputs": [
        {
          "name": "stdout",
          "output_type": "stream",
          "text": [
            "John 44\n",
            "Michael 44\n",
            "Robert 17\n",
            "...\n",
            "\n",
            "Mary 76\n",
            "Jennifer 15\n",
            "Emily 12\n",
            "...\n"
          ]
        }
      ],
      "source": [
        "from zipfile import ZipFile\n",
        "import os, re\n",
        "statistic_Women={}\n",
        "statistic_Men={}\n",
        "with ZipFile('archive.zip', \"r\") as zip:\n",
        "   \n",
        "    for i in range(1880,2020):\n",
        "        year ='yob' + str(i) + '.txt'\n",
        "        \n",
        "        zip.extract(year)\n",
        "        num = 0 \n",
        "        with open(year, \"r\") as f:\n",
        "            for line in f:\n",
        "                if num == 0:\n",
        "                    x = re.match(r\"\\w+\", line)\n",
        "                    x = x.group()\n",
        "                    try:\n",
        "                        statistic_Women[x] += 1\n",
        "                    except:\n",
        "                        statistic_Women[x] = 1\n",
        "                    num = 1    \n",
        "                if re.match(r\"\\w+,M\", line) != None:\n",
        "                    x = re.match(r\"\\w+\", line)\n",
        "                    x = x.group()\n",
        "                    try: \n",
        "                        statistic_Men[x] += 1\n",
        "                    except:\n",
        "                        statistic_Men[x] = 1\n",
        "                    break\n",
        "        os.remove(year)\n",
        "\n",
        "statistic_Men = dict(sorted(statistic_Men.items(), key=lambda item: item[1], reverse=True))    \n",
        "statistic_Women = dict(sorted(statistic_Women.items(), key=lambda item: item[1], reverse=True))    \n",
        "\n",
        "i=0\n",
        "for key, value in statistic_Men.items():\n",
        "    i += 1\n",
        "    if i <= 3:\n",
        "        print(key, value) \n",
        "print('...\\n')\n",
        "i=0\n",
        "for key, value in statistic_Women.items():\n",
        "    i += 1\n",
        "    if i <= 3:\n",
        "        print(key, value) \n",
        "print('...')"
      ]
    },
    {
      "cell_type": "markdown",
      "metadata": {},
      "source": [
        "### **Завдання 3 (1,5 бали)**\n",
        "\n",
        "Створіть CSV-файл, що буде містити від 5 до 10 пісень (творів) вашого улюбленого музиканта. Назва файлу - ім'я музиканта (композитора) або назва гурту.\n",
        "\n",
        "1. Обов'язково додайте до файлу рядок з назвами двох колонок (Song, Year) або (Composition, Year).\n",
        "\n",
        "2. Після запису файлу роздрукуйте назву файлу та усі наявні у файлі рядки (включно із заголовками).\n",
        "\n",
        "3. Для запису та зчитування рядків скористайтесь функціями csv.DictWriter() та csv.DictReader()."
      ]
    },
    {
      "cell_type": "code",
      "execution_count": 4,
      "metadata": {},
      "outputs": [
        {
          "name": "stdout",
          "output_type": "stream",
          "text": [
            "Song Year \n",
            "------------------------------\n",
            "Gone With The Wind 2016\n",
            "a new moral low ground 2022\n",
            "Hereafter 2018\n",
            "These Colours Don't Run 2013\n",
            "Heartburn 2012\n",
            "Early Grave 2009\n",
            "Doomsday 2017\n",
            "Naysayer 2014\n",
            "Black Lungs 2021\n",
            "be very afraid 2022\n"
          ]
        }
      ],
      "source": [
        "import csv\n",
        "with open('Architects.csv', 'w', newline='') as csvfile:\n",
        "    fieldnames = ['Song', 'Year']\n",
        "    writer = csv.DictWriter(csvfile, fieldnames=fieldnames)\n",
        "    writer.writeheader()\n",
        "    writer.writerow({'Song': 'Gone With The Wind',\n",
        "                     'Year': '2016',})\n",
        "    writer.writerow({'Song': 'a new moral low ground',\n",
        "                     'Year': '2022',})\n",
        "    writer.writerow({'Song': 'Hereafter',\n",
        "                     'Year': '2018',})\n",
        "    writer.writerow({'Song': \"These Colours Don't Run\",\n",
        "                     'Year': '2013',}) \n",
        "    writer.writerow({'Song': \"Heartburn\",\n",
        "                     'Year': '2012',})   \n",
        "    writer.writerow({'Song': \"Early Grave\",\n",
        "                     'Year': '2009',})\n",
        "    writer.writerow({'Song': 'Doomsday',\n",
        "                     'Year': '2017',}) \n",
        "    writer.writerow({'Song': 'Naysayer',\n",
        "                     'Year': '2014',}) \n",
        "    writer.writerow({'Song': 'Black Lungs',\n",
        "                     'Year': '2021',})   \n",
        "    writer.writerow({'Song': 'be very afraid',\n",
        "                     'Year': '2022',})  \n",
        "with open('Architects.csv', newline='') as csvfile:\n",
        "    reader = csv.DictReader(csvfile)\n",
        "    for heading in reader.fieldnames:\n",
        "        print(heading, end=' ')\n",
        "    print('\\n------------------------------')\n",
        "    for row in reader:\n",
        "        print(row['Song'], row['Year'])            "
      ]
    },
    {
      "cell_type": "markdown",
      "metadata": {},
      "source": [
        "### **Завдання 4 (1,5 бали)**\n",
        "\n",
        "COCO Dataset - набір фотографій та анотацій до них. Його дуже часто використовують для тренування класифікаторів, призначених для розпізнавання об'єктів та визначення ключових точок на зображеннях.\n",
        "\n",
        "Завантажте файли з описом фотографій COCO Dataset за посиланням: [COCO Dataset](http://images.cocodataset.org/annotations/image_info_test2017.zip).\n",
        "\n",
        "Відкрийте файл image_info_test-dev2017.json. Інформація про фотографії з бази COCO міститься у полі \"images\". Інформація про категорії, на які розділені всі фотографії, міститься у полі \"categories\".\n",
        "\n",
        "1. Визначте кількість фотографій, інформацію про які можна знайти у цьому файлі (кількість елементів, що відповідають ключу \"images\").\n",
        "\n",
        "2. Визначте кількість наявних категорій (кількість елементів, що відповідають ключу \"categories\").\n",
        "\n",
        "3. Виведіть посилання на фотографію 000000000001.jpg (\"coco_url\"). Також виведіть висоту цієї фотографії (\"height\"), ширину (\"width\") та її ідентифікатор (\"id\").\n",
        "\n",
        "4. Виведіть назву фотографії з набільшим номером.\n",
        "\n",
        "Опис структури JSON-файлу для набору фотографій COCO можна знайти за посиланням: [Data format](https://cocodataset.org/#format-data).\n",
        "\n",
        "Щоб перевірити правильність результатів, у VS Code встановіть розширення JSON та відкрийте файл image_info_test-dev2017.json. Розширення автоматично визначає кількість елементів у кожному полі."
      ]
    },
    {
      "cell_type": "code",
      "execution_count": 5,
      "metadata": {},
      "outputs": [
        {
          "name": "stdout",
          "output_type": "stream",
          "text": [
            "Кількість фото 20288\n",
            "Кількість категорій 80\n",
            "Посилання на фото http://images.cocodataset.org/test2017/000000000001.jpg\n",
            "Висота 480\n",
            "Ширина 640\n",
            "Ідентифікатор 1\n",
            "Фотографія з набільшим номером 000000581918.jpg\n"
          ]
        }
      ],
      "source": [
        "import json\n",
        "\n",
        "with open('image_info_test-dev2017.json', 'r') as file:\n",
        "    mas = json.load(file)\n",
        "    print(f\"Кількість фото {len(mas['images'])}\")\n",
        "    print(f\"Кількість категорій {len(mas['categories'])}\")\n",
        "    for i in mas['images']:\n",
        "        if i[\"file_name\"] == '000000000001.jpg':\n",
        "            print(f\"Посилання на фото {i['coco_url']}\")\n",
        "            print(f\"Висота {i['height']}\")\n",
        "            print(f\"Ширина {i['width']}\")\n",
        "            print(f\"Ідентифікатор {i['id']}\")\n",
        "\n",
        "    sort_mas = sorted(mas[\"images\"], key = lambda x: x[\"id\"], reverse=True)\n",
        "\n",
        "    print(f\"Фотографія з набільшим номером {sort_mas[0]['file_name']}\")\n"
      ]
    }
  ],
  "metadata": {
    "colab": {
      "collapsed_sections": [],
      "name": "Practice_14_KM_01.ipynb",
      "provenance": []
    },
    "kernelspec": {
      "display_name": "Python 3",
      "language": "python",
      "name": "python3"
    },
    "language_info": {
      "codemirror_mode": {
        "name": "ipython",
        "version": 3
      },
      "file_extension": ".py",
      "mimetype": "text/x-python",
      "name": "python",
      "nbconvert_exporter": "python",
      "pygments_lexer": "ipython3",
      "version": "3.10.7"
    },
    "vscode": {
      "interpreter": {
        "hash": "8b6bf7134631e6eb6a82ee2eed85675a83fe3d68a2155c2a377db56b943ddd16"
      }
    }
  },
  "nbformat": 4,
  "nbformat_minor": 0
}
