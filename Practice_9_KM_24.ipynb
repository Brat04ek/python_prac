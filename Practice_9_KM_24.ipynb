{
  "cells": [
    {
      "cell_type": "markdown",
      "metadata": {
        "id": "FMqboNwO4rVs"
      },
      "source": [
        "# **Курс \"Програмування на мові Python\"**"
      ]
    },
    {
      "cell_type": "markdown",
      "metadata": {
        "id": "A2T6MigL5Z06"
      },
      "source": [
        "## **Практичне зайняття №9**\n",
        "\n",
        "### Тема: \"Робота з функціями. Локальні та глобальні змінні\""
      ]
    },
    {
      "cell_type": "markdown",
      "metadata": {
        "id": "cfCdgK2zXm7e"
      },
      "source": [
        "### **Завдання 1 (3 бали)**\n",
        "\n",
        "**Підрахувати визначник матриці, використовуючи правило перестановок.**\n",
        "\n",
        "Функція random_matrix() призначена для створення квадратної матриці випадкових чисел. Її змінювати непотрібно.\n",
        "\n",
        "Приклад використання методу permutations() для створення списку перестановок також подається у комірці з кодом.\n",
        "\n",
        "1) Створити 3 функції: функцію створення списку перестановок, функцію підрахунку добутків та функцію підрахунку загальної суми.\n",
        "\n",
        "2) Кожна функція має супроводжуватись рядком документації, що буде коротко описувати її призначення.\n",
        "\n",
        "3) Розмірність квадратної матриці має вводитись користувачем з клавіатури. Підрахунки виконувати лише в тому разі, якщо користувач введе ціле додатне число.\n",
        "\n",
        "4) Загальний результат повинен підраховуватись за допомогою композиції функцій.\n",
        "\n",
        "За бажанням можна перевірити правильність роботи програми за допомогою функції np.linalg.det(a)."
      ]
    },
    {
      "cell_type": "code",
      "execution_count": 9,
      "metadata": {
        "id": "ifNX2M7LXm7f"
      },
      "outputs": [
        {
          "name": "stdout",
          "output_type": "stream",
          "text": [
            "3\n",
            "[[7 7 7]\n",
            " [7 5 7]\n",
            " [1 5 3]]\n",
            "det = -28\n",
            "det numpy = -27.999999999999996\n"
          ]
        }
      ],
      "source": [
        "import numpy as np\n",
        "import itertools\n",
        "\n",
        "def random_matrix(dim):\n",
        "    \"\"\"\n",
        "    The function generates dim x dim array of integers\n",
        "    between 0 and 10.\n",
        "    \"\"\"\n",
        "    matrix = np.random.randint(10, size = (dim, dim))\n",
        "    return matrix\n",
        "\n",
        "def get_integer_input(message):\n",
        "    \"\"\"\n",
        "    This function will display the message to the user\n",
        "    and request that they input an integer.\n",
        "    If the user enters something that is not a number\n",
        "    then the input will be rejected\n",
        "    and an error message will be displayed.\n",
        "    The user will then be asked to try again.\"\"\"\n",
        "    value_as_string = input(message)\n",
        "    print(value_as_string)\n",
        "    while not value_as_string.isnumeric():\n",
        "        print('The input must be an integer')\n",
        "        value_as_string = input(message)\n",
        "    return int(value_as_string)\n",
        "\n",
        "def permutations(dim):\n",
        "    \"\"\"\n",
        "    This function make permutation list\n",
        "    \"\"\"\n",
        "    m = []\n",
        "    for i in range(dim):\n",
        "        m.append(i)\n",
        "    perm_list = list(itertools.permutations(m, dim))\n",
        "    return perm_list\n",
        "\n",
        "def sing(perm_list):\n",
        "    \"\"\"\n",
        "    This function count number of invertion that had done\n",
        "    for permutation list\n",
        "    \"\"\"\n",
        "    sing_list=[]\n",
        "    for tuples in perm_list:\n",
        "        perm_count = 0\n",
        "        for i in range(0,len(tuples)):\n",
        "            for j in range(i, len(tuples)):\n",
        "                if tuples[i] > tuples[j]:\n",
        "                    perm_count += 1\n",
        "        if perm_count % 2==0:\n",
        "            sing_list.append(1)\n",
        "        elif perm_count % 2 == 1:\n",
        "            sing_list.append(-1) \n",
        "    return sing_list\n",
        "\n",
        "def result_fin(matrix, perm_list, sing_list):\n",
        "    \"\"\"\n",
        "    This fucntion find all matrix element we need to sum and change to nesseseri sing and then sum it up\n",
        "    \"\"\"\n",
        "    prod_list = []\n",
        "    for tuples in perm_list:\n",
        "        pr = 1\n",
        "        for i in range(dim):\n",
        "            pr = pr* matrix[i][tuples[i]]\n",
        "        prod_list.append(pr)\n",
        "    for i in range(len(prod_list)):\n",
        "        prod_list[i]=prod_list[i]*sing_list[i]\n",
        "    return sum(prod_list)\n",
        "\n",
        "\n",
        "dim = get_integer_input('Enter dim: ')\n",
        "matrix = random_matrix(dim)\n",
        "perm_list = permutations(dim)\n",
        "sing_list = sing(perm_list)\n",
        "\n",
        "result = result_fin(matrix, perm_list, sing_list)\n",
        "\n",
        "print(matrix)\n",
        "print('det =', result)\n",
        "print('det numpy =', np.linalg.det(matrix))\n",
        "\n",
        "    "
      ]
    }
  ],
  "metadata": {
    "colab": {
      "collapsed_sections": [],
      "name": "Practice_7_KM-01_.ipynb",
      "provenance": []
    },
    "kernelspec": {
      "display_name": "Python 3.10.7 64-bit",
      "language": "python",
      "name": "python3"
    },
    "language_info": {
      "codemirror_mode": {
        "name": "ipython",
        "version": 3
      },
      "file_extension": ".py",
      "mimetype": "text/x-python",
      "name": "python",
      "nbconvert_exporter": "python",
      "pygments_lexer": "ipython3",
      "version": "3.10.7"
    },
    "vscode": {
      "interpreter": {
        "hash": "8b6bf7134631e6eb6a82ee2eed85675a83fe3d68a2155c2a377db56b943ddd16"
      }
    }
  },
  "nbformat": 4,
  "nbformat_minor": 0
}
